{
 "cells": [
  {
   "cell_type": "markdown",
   "metadata": {},
   "source": [
    "# Analyze states visually "
   ]
  },
  {
   "cell_type": "code",
   "execution_count": 29,
   "metadata": {},
   "outputs": [],
   "source": [
    "import json\n",
    "\n",
    "f = open(\"../tests/Trajectories/ZIKV/markophore_validation.json\")\n",
    "\n",
    "# returns JSON object as\n",
    "# a dictionary\n",
    "data = json.load(f)\n",
    "ind = data[\"1\"][\"frameIndices_state\"]\n",
    "num_states = 4"
   ]
  },
  {
   "cell_type": "code",
   "execution_count": 30,
   "metadata": {},
   "outputs": [],
   "source": [
    "import MDAnalysis\n",
    "\n",
    "topology = \"../tests/Trajectories/ZIKV/startframe.pdb\"\n",
    "coordinates = \"../tests/Trajectories/ZIKV/trajectory.dcd\"\n",
    "base = \"../tests/Trajectories/ZIKV/\"\n",
    "u = MDAnalysis.Universe(topology, coordinates)\n",
    "# workflow = [some_transform, another_transform, this_transform]\n",
    "# u.trajectory.add_transformations(*workflow)"
   ]
  },
  {
   "cell_type": "code",
   "execution_count": null,
   "metadata": {},
   "outputs": [],
   "source": [
    "for i in range(4):\n",
    "    ind = data[str(i)][\"frameIndices_state\"]\n",
    "    protein = u.select_atoms(\"protein or resname *\")\n",
    "    with MDAnalysis.Writer(\n",
    "        \"../tests/Trajectories/ZIKV/state_\" + str(i) + \".pdb\", protein.n_atoms\n",
    "    ) as W:\n",
    "        for ts in u.trajectory[ind]:\n",
    "            W.write(protein)"
   ]
  },
  {
   "cell_type": "code",
   "execution_count": 31,
   "metadata": {},
   "outputs": [],
   "source": [
    "ind = data[\"1\"][\"frameIndices_state\"]\n",
    "protein = u.select_atoms(\"protein or resname *\")\n",
    "with MDAnalysis.Writer(\"../tests/Trajectories/ZIKV/state_1.pdb\", protein.n_atoms) as W:\n",
    "    for ts in u.trajectory[ind]:\n",
    "        W.write(protein)"
   ]
  },
  {
   "cell_type": "code",
   "execution_count": 32,
   "metadata": {},
   "outputs": [],
   "source": [
    "ind = data[\"2\"][\"frameIndices_state\"]\n",
    "topology = \"../tests/Trajectories/ZIKV/startframe.pdb\"\n",
    "coordinates = \"../tests/Trajectories/ZIKV/trajectory.dcd\"\n",
    "\n",
    "u = MDAnalysis.Universe(topology, coordinates)\n",
    "protein = u.select_atoms(\"protein or resname *\")\n",
    "with MDAnalysis.Writer(\"../tests/Trajectories/ZIKV/state_2.pdb\", protein.n_atoms) as W:\n",
    "    for ts in u.trajectory[ind]:\n",
    "        W.write(protein)"
   ]
  },
  {
   "cell_type": "code",
   "execution_count": 33,
   "metadata": {},
   "outputs": [],
   "source": [
    "ind = data[\"3\"][\"frameIndices_state\"]\n",
    "topology = \"../tests/Trajectories/ZIKV/startframe.pdb\"\n",
    "coordinates = \"../tests/Trajectories/ZIKV/trajectory.dcd\"\n",
    "\n",
    "u = MDAnalysis.Universe(topology, coordinates)\n",
    "protein = u.select_atoms(\"protein or resname *\")\n",
    "with MDAnalysis.Writer(\"../tests/Trajectories/ZIKV/state_3.pdb\", protein.n_atoms) as W:\n",
    "    for ts in u.trajectory[ind]:\n",
    "        W.write(protein)"
   ]
  },
  {
   "cell_type": "code",
   "execution_count": 36,
   "metadata": {},
   "outputs": [
    {
     "data": {
      "text/plain": [
       "[[[0, 1, 2, 3, 4, 9, 10],\n",
       "  [0, 1, 2, 3, 5, 6, 8, 9, 10],\n",
       "  [0, 1, 2, 3, 5, 6, 9, 10],\n",
       "  [0, 1, 2, 3, 5, 8, 9, 10],\n",
       "  [0, 1, 2, 3, 5, 9, 10],\n",
       "  [0, 1, 2, 3, 9, 10],\n",
       "  [0, 2, 3, 9, 10],\n",
       "  [1, 2, 3, 5, 6, 8, 9, 10],\n",
       "  [1, 2, 3, 5, 6, 9, 10],\n",
       "  [1, 2, 3, 5, 8, 9, 10],\n",
       "  [1, 2, 3, 5, 9],\n",
       "  [1, 2, 3, 5, 9, 10],\n",
       "  [1, 2, 3, 8, 9, 10],\n",
       "  [1, 2, 3, 9, 10],\n",
       "  [2, 3, 5, 8, 9],\n",
       "  [2, 3, 5, 8, 9, 10]],\n",
       " [[0, 1, 2, 3],\n",
       "  [0, 1, 2, 3, 5],\n",
       "  [0, 1, 2, 3, 5, 6],\n",
       "  [0, 1, 2, 3, 5, 6, 8],\n",
       "  [0, 1, 2, 3, 5, 6, 10],\n",
       "  [0, 1, 2, 3, 5, 8],\n",
       "  [0, 1, 2, 3, 5, 8, 10],\n",
       "  [0, 1, 2, 3, 5, 10],\n",
       "  [0, 1, 2, 3, 7, 8, 10],\n",
       "  [0, 1, 2, 3, 7, 10],\n",
       "  [0, 1, 2, 3, 10],\n",
       "  [0, 1, 2, 5, 6],\n",
       "  [0, 1, 2, 5, 8],\n",
       "  [0, 1, 3, 5, 10],\n",
       "  [0, 2, 3, 5],\n",
       "  [1, 2, 3, 5],\n",
       "  [1, 2, 3, 5, 10],\n",
       "  [2, 3, 5, 10]],\n",
       " [[0, 1, 2],\n",
       "  [0, 1, 2, 3, 4, 7],\n",
       "  [0, 1, 2, 3, 4, 7, 8, 9],\n",
       "  [0, 1, 2, 3, 4, 7, 9],\n",
       "  [0, 1, 2, 3, 4, 7, 10],\n",
       "  [0, 1, 2, 3, 7],\n",
       "  [0, 1, 2, 3, 7, 8],\n",
       "  [0, 1, 2, 3, 7, 8, 9],\n",
       "  [0, 1, 2, 3, 7, 9],\n",
       "  [0, 1, 2, 3, 8, 9],\n",
       "  [0, 1, 2, 3, 9],\n",
       "  [0, 1, 2, 4],\n",
       "  [0, 1, 2, 4, 5, 7, 9],\n",
       "  [0, 1, 2, 4, 5, 9],\n",
       "  [0, 1, 2, 4, 7, 8],\n",
       "  [0, 1, 2, 4, 7, 9],\n",
       "  [0, 1, 2, 4, 9],\n",
       "  [0, 1, 2, 5],\n",
       "  [0, 1, 2, 5, 6, 8, 9],\n",
       "  [0, 1, 2, 5, 6, 9],\n",
       "  [0, 1, 2, 5, 7, 9],\n",
       "  [0, 1, 2, 5, 8, 9],\n",
       "  [0, 1, 2, 5, 9],\n",
       "  [0, 1, 2, 7],\n",
       "  [0, 1, 2, 7, 8],\n",
       "  [0, 1, 2, 7, 8, 9],\n",
       "  [0, 1, 2, 7, 8, 9, 10],\n",
       "  [0, 1, 2, 7, 9],\n",
       "  [0, 1, 2, 8, 9],\n",
       "  [0, 1, 2, 9],\n",
       "  [0, 2, 5, 8, 9],\n",
       "  [0, 2, 5, 9]],\n",
       " [[0, 1, 2, 3, 4, 7, 9, 10],\n",
       "  [0, 1, 2, 3, 5, 6, 8, 9],\n",
       "  [0, 1, 2, 3, 5, 6, 9],\n",
       "  [0, 1, 2, 3, 5, 7, 9, 10],\n",
       "  [0, 1, 2, 3, 5, 8, 9],\n",
       "  [0, 1, 2, 3, 5, 9],\n",
       "  [0, 1, 2, 3, 7, 8, 9, 10],\n",
       "  [0, 1, 2, 3, 7, 9, 10],\n",
       "  [0, 1, 2, 3, 8, 9, 10],\n",
       "  [0, 1, 2, 5, 9, 10],\n",
       "  [1, 2, 5, 8, 9]]]"
      ]
     },
     "execution_count": 36,
     "metadata": {},
     "output_type": "execute_result"
    }
   ],
   "source": [
    "distinct_pharmacophores = []\n",
    "for state in data.keys():\n",
    "    distinct_pharmacophores.append(data[state][\"unique_pharmc\"])\n",
    "\n",
    "ref = set(distinct_pharmacophores[0])\n",
    "for i in range(1, 4):\n",
    "    print(ref & distinc)"
   ]
  },
  {
   "cell_type": "code",
   "execution_count": 28,
   "metadata": {},
   "outputs": [
    {
     "ename": "ModuleNotFoundError",
     "evalue": "No module named 'pytraj'",
     "output_type": "error",
     "traceback": [
      "\u001b[0;31m---------------------------------------------------------------------------\u001b[0m",
      "\u001b[0;31mModuleNotFoundError\u001b[0m                       Traceback (most recent call last)",
      "\u001b[0;32m/tmp/ipykernel_116144/1551315386.py\u001b[0m in \u001b[0;36m<module>\u001b[0;34m\u001b[0m\n\u001b[0;32m----> 1\u001b[0;31m \u001b[0;32mimport\u001b[0m \u001b[0mpytraj\u001b[0m \u001b[0;32mas\u001b[0m \u001b[0mpt\u001b[0m\u001b[0;34m\u001b[0m\u001b[0;34m\u001b[0m\u001b[0m\n\u001b[0m\u001b[1;32m      2\u001b[0m \u001b[0;32mimport\u001b[0m \u001b[0mnglview\u001b[0m \u001b[0;32mas\u001b[0m \u001b[0mnv\u001b[0m\u001b[0;34m\u001b[0m\u001b[0;34m\u001b[0m\u001b[0m\n\u001b[1;32m      3\u001b[0m \u001b[0mprint\u001b[0m\u001b[0;34m(\u001b[0m\u001b[0mpt\u001b[0m\u001b[0;34m.\u001b[0m\u001b[0m__version__\u001b[0m\u001b[0;34m,\u001b[0m \u001b[0mnv\u001b[0m\u001b[0;34m.\u001b[0m\u001b[0m__version__\u001b[0m\u001b[0;34m)\u001b[0m\u001b[0;34m\u001b[0m\u001b[0;34m\u001b[0m\u001b[0m\n",
      "\u001b[0;31mModuleNotFoundError\u001b[0m: No module named 'pytraj'"
     ]
    }
   ],
   "source": [
    "import pytraj as pt\n",
    "import nglview as nv\n",
    "\n",
    "print(pt.__version__, nv.__version__)"
   ]
  },
  {
   "cell_type": "code",
   "execution_count": null,
   "metadata": {},
   "outputs": [],
   "source": []
  }
 ],
 "metadata": {
  "interpreter": {
   "hash": "5cf78e979882fca6f324ad6505d8f22df0ff77d326a170b158681def5c7af76a"
  },
  "kernelspec": {
   "display_name": "Python 3.9.7 64-bit ('DelightfulDyno': conda)",
   "language": "python",
   "name": "python3"
  },
  "language_info": {
   "codemirror_mode": {
    "name": "ipython",
    "version": 3
   },
   "file_extension": ".py",
   "mimetype": "text/x-python",
   "name": "python",
   "nbconvert_exporter": "python",
   "pygments_lexer": "ipython3",
   "version": "3.9.7"
  },
  "orig_nbformat": 4
 },
 "nbformat": 4,
 "nbformat_minor": 2
}
