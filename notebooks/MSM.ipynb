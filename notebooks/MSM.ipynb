{
 "cells": [
  {
   "cell_type": "markdown",
   "id": "491d0a93-5718-49d2-af57-0ce71ec76762",
   "metadata": {},
   "source": [
    "# Fit MSM to Dynophore Trajectory "
   ]
  },
  {
   "cell_type": "code",
   "execution_count": 2,
   "id": "cb1eda23-a214-4fdf-ab41-7fa3f84b018f",
   "metadata": {},
   "outputs": [
    {
     "name": "stdout",
     "output_type": "stream",
     "text": [
      "There are actually  77  present.\n",
      "The length of the observation sequence is  5001\n"
     ]
    }
   ],
   "source": [
    "import pandas as pd\n",
    "import numpy as np\n",
    "time_ser = pd.read_json(\"Trajectories/ZIKV/ZIKV-Pro-427-1_dynophore_time_series.json\")\n",
    "time_ser = time_ser.drop(columns=\"num_frames\")\n",
    "obs = time_ser.drop_duplicates()\n",
    "num_obs = len(obs)\n",
    "print(\"There are actually \", num_obs, \" present.\")\n",
    "obs = obs.to_numpy()\n",
    "time_ser = time_ser.to_numpy()\n",
    "print(\"The length of the observation sequence is \", len(time_ser))"
   ]
  },
  {
   "cell_type": "markdown",
   "id": "37f71321-cc89-4da1-82dc-40cebaccc7f4",
   "metadata": {},
   "source": [
    "## Label data"
   ]
  },
  {
   "cell_type": "code",
   "execution_count": 3,
   "id": "0c0c4a57-1071-40b0-a851-e10aadf18b18",
   "metadata": {},
   "outputs": [],
   "source": [
    "def label_traj(time_ser, obs):\n",
    "    reduced_time_ser = np.zeros(len(time_ser))\n",
    "    for i in range(len(time_ser)):\n",
    "        for j in range(len(obs)):\n",
    "            if compare_array(time_ser[i], obs[j]): \n",
    "                reduced_time_ser[i] = j\n",
    "                break\n",
    "    return reduced_time_ser.astype(np.int64)\n",
    "\n",
    "def compare_array(arr1, arr2): \n",
    "    comp = arr1 == arr2 \n",
    "    return comp.all()\n",
    "red_time_ser = label_traj(time_ser, obs)"
   ]
  },
  {
   "cell_type": "code",
   "execution_count": 4,
   "id": "1dddc76c-020b-4db0-8f02-b521248b09e6",
   "metadata": {},
   "outputs": [
    {
     "name": "stdout",
     "output_type": "stream",
     "text": [
      "[ 0  1  2 ... 45 45 45]\n"
     ]
    }
   ],
   "source": [
    "print(red_time_ser)"
   ]
  },
  {
   "cell_type": "code",
   "execution_count": 5,
   "id": "7292426d-ffff-46aa-8396-f57d602473c3",
   "metadata": {},
   "outputs": [],
   "source": [
    "import numpy as np\n",
    "from deeptime.markov import TransitionCountEstimator\n",
    "\n",
    "estimator = TransitionCountEstimator(\n",
    "    lagtime=1,\n",
    "    count_mode=\"sliding\"\n",
    ")\n"
   ]
  },
  {
   "cell_type": "code",
   "execution_count": 6,
   "id": "1e4bfec9-4997-4942-852b-e0ece95c7850",
   "metadata": {},
   "outputs": [],
   "source": [
    "counts = estimator.fit(red_time_ser).fetch_model()  # fit and fetch the model"
   ]
  },
  {
   "cell_type": "code",
   "execution_count": 7,
   "id": "8ce8ff1b-8cad-405f-85b7-663c496dc8b9",
   "metadata": {},
   "outputs": [
    {
     "data": {
      "text/plain": [
       "array([8.000e+00, 5.000e+00, 2.000e+00, 2.000e+00, 2.000e+00, 2.000e+00,\n",
       "       2.000e+00, 1.900e+01, 5.000e+00, 2.000e+00, 7.000e+00, 7.000e+00,\n",
       "       2.000e+00, 7.000e+00, 2.000e+00, 2.000e+00, 2.000e+00, 2.000e+00,\n",
       "       4.000e+00, 3.000e+00, 1.600e+01, 2.000e+00, 2.000e+00, 2.000e+00,\n",
       "       2.000e+00, 2.000e+00, 4.000e+00, 3.000e+00, 3.000e+00, 2.000e+00,\n",
       "       2.000e+00, 2.000e+00, 2.000e+00, 2.000e+00, 2.000e+00, 2.000e+00,\n",
       "       4.000e+00, 7.000e+00, 9.000e+00, 5.000e+00, 1.400e+01, 2.000e+00,\n",
       "       5.000e+00, 4.000e+01, 5.000e+00, 8.000e+00, 2.000e+00, 7.000e+00,\n",
       "       1.400e+01, 6.000e+00, 1.080e+02, 2.000e+00, 3.000e+00, 2.000e+00,\n",
       "       3.000e+00, 4.000e+00, 6.000e+00, 1.300e+01, 2.000e+00, 2.400e+01,\n",
       "       2.000e+00, 2.000e+00, 2.000e+00, 2.000e+00, 8.000e+00, 2.000e+00,\n",
       "       8.000e+00, 2.400e+01, 8.180e+02, 6.100e+01, 4.500e+01, 7.000e+00,\n",
       "       2.000e+00, 2.000e+00, 4.000e+00, 7.000e+00, 1.800e+01, 2.000e+00,\n",
       "       6.600e+01, 2.444e+03, 2.000e+00, 1.130e+02, 2.300e+01, 5.200e+01,\n",
       "       2.000e+00, 2.000e+00, 6.000e+00, 2.800e+01, 4.500e+01, 3.000e+00,\n",
       "       6.000e+00, 2.000e+00, 3.000e+00, 1.160e+02, 1.500e+01, 2.000e+00,\n",
       "       2.000e+00, 2.700e+01, 1.520e+02, 9.000e+00, 2.000e+00, 9.000e+00,\n",
       "       1.500e+01, 3.000e+00, 2.000e+00, 2.000e+00, 2.000e+00, 5.000e+00,\n",
       "       5.600e+01, 2.000e+00, 2.200e+01, 2.000e+00, 2.000e+00, 2.000e+00,\n",
       "       8.000e+00, 2.000e+00, 8.000e+00, 3.000e+00, 4.000e+00, 7.000e+00,\n",
       "       2.000e+00, 1.300e+01, 4.000e+00, 2.000e+00, 1.600e+01, 2.000e+00,\n",
       "       8.000e+00, 4.000e+00, 2.000e+00, 2.800e+01, 2.000e+00, 2.000e+00])"
      ]
     },
     "execution_count": 7,
     "metadata": {},
     "output_type": "execute_result"
    }
   ],
   "source": [
    "counts.count_matrix[counts.count_matrix>1]"
   ]
  },
  {
   "cell_type": "code",
   "execution_count": 9,
   "id": "d53ea08d-c08d-4975-8811-75118c245aef",
   "metadata": {},
   "outputs": [
    {
     "data": {
      "image/png": "[encoded data removed]",
      "text/plain": [
       "<Figure size 432x288 with 2 Axes>"
      ]
     },
     "metadata": {
      "needs_background": "light"
     },
     "output_type": "display_data"
    }
   ],
   "source": [
    "import seaborn as sns\n",
    "ax = sns.heatmap(counts.count_matrix)"
   ]
  },
  {
   "cell_type": "code",
   "execution_count": null,
   "id": "7615e866-b5c4-4ce9-b990-b1874ff8f928",
   "metadata": {},
   "outputs": [],
   "source": []
  }
 ],
 "metadata": {
  "kernelspec": {
   "display_name": "Python 3 (ipykernel)",
   "language": "python",
   "name": "python3"
  },
  "language_info": {
   "codemirror_mode": {
    "name": "ipython",
    "version": 3
   },
   "file_extension": ".py",
   "mimetype": "text/x-python",
   "name": "python",
   "nbconvert_exporter": "python",
   "pygments_lexer": "ipython3",
   "version": "3.9.7"
  }
 },
 "nbformat": 4,
 "nbformat_minor": 5
}
